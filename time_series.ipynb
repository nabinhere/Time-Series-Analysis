{
 "cells": [
  {
   "cell_type": "markdown",
   "id": "b143e48f-3d18-4052-800a-48d7f89165ce",
   "metadata": {},
   "source": [
    "## Working with Datetime Data"
   ]
  },
  {
   "cell_type": "code",
   "execution_count": 8,
   "id": "1ea3f289-3c9c-4a84-bc79-70582c641dd9",
   "metadata": {},
   "outputs": [],
   "source": [
    "import pandas as pd\n",
    "import numpy as np\n",
    "import matplotlib.pyplot as plt\n",
    "from datetime import datetime, timedelta"
   ]
  },
  {
   "cell_type": "code",
   "execution_count": 11,
   "id": "9eac4909-1de0-451e-ba0c-70a469a7e33d",
   "metadata": {},
   "outputs": [
    {
     "name": "stdout",
     "output_type": "stream",
     "text": [
      "Created 168 hourly timestamps\n",
      "First: 2024-01-01 00:00:00\n",
      "Last: 2024-01-07 23:00:00\n"
     ]
    }
   ],
   "source": [
    "dates = pd.date_range(start='2024-01-01', end='2024-01-07 23:00:00', freq = 'h')\n",
    "print(f\"Created {len(dates)} hourly timestamps\")\n",
    "print(f\"First: {dates[0]}\")\n",
    "print(f\"Last: {dates[-1]}\")"
   ]
  },
  {
   "cell_type": "code",
   "execution_count": 19,
   "id": "63b0f0fd-c977-49a7-ac5b-9cd5cc2afd2e",
   "metadata": {},
   "outputs": [
    {
     "data": {
      "text/html": [
       "<div>\n",
       "<style scoped>\n",
       "    .dataframe tbody tr th:only-of-type {\n",
       "        vertical-align: middle;\n",
       "    }\n",
       "\n",
       "    .dataframe tbody tr th {\n",
       "        vertical-align: top;\n",
       "    }\n",
       "\n",
       "    .dataframe thead th {\n",
       "        text-align: right;\n",
       "    }\n",
       "</style>\n",
       "<table border=\"1\" class=\"dataframe\">\n",
       "  <thead>\n",
       "    <tr style=\"text-align: right;\">\n",
       "      <th></th>\n",
       "      <th>load</th>\n",
       "    </tr>\n",
       "  </thead>\n",
       "  <tbody>\n",
       "    <tr>\n",
       "      <th>2024-01-01 00:00:00</th>\n",
       "      <td>503.043882</td>\n",
       "    </tr>\n",
       "    <tr>\n",
       "      <th>2024-01-01 01:00:00</th>\n",
       "      <td>491.903132</td>\n",
       "    </tr>\n",
       "    <tr>\n",
       "      <th>2024-01-01 02:00:00</th>\n",
       "      <td>492.662588</td>\n",
       "    </tr>\n",
       "    <tr>\n",
       "      <th>2024-01-01 03:00:00</th>\n",
       "      <td>480.007705</td>\n",
       "    </tr>\n",
       "    <tr>\n",
       "      <th>2024-01-01 04:00:00</th>\n",
       "      <td>496.030118</td>\n",
       "    </tr>\n",
       "  </tbody>\n",
       "</table>\n",
       "</div>"
      ],
      "text/plain": [
       "                           load\n",
       "2024-01-01 00:00:00  503.043882\n",
       "2024-01-01 01:00:00  491.903132\n",
       "2024-01-01 02:00:00  492.662588\n",
       "2024-01-01 03:00:00  480.007705\n",
       "2024-01-01 04:00:00  496.030118"
      ]
     },
     "execution_count": 19,
     "metadata": {},
     "output_type": "execute_result"
    }
   ],
   "source": [
    "# Generate simple load data with daily pattern\n",
    "hours = np.arange(len(dates))\n",
    "daily_pattern = 500 + np.sin((hours%24)*2*np.pi/24 - np.pi/2)\n",
    "noise = np.random.normal(0, 10, len(dates))\n",
    "load = daily_pattern + noise\n",
    "\n",
    "# create DataFrame\n",
    "df = pd.DataFrame({\n",
    "    'load': load\n",
    "    }, index = dates\n",
    ")\n",
    "df.head()"
   ]
  },
  {
   "cell_type": "code",
   "execution_count": 20,
   "id": "9568d36f-e4bc-4d02-8302-404175195c51",
   "metadata": {},
   "outputs": [],
   "source": [
    "df['hour'] = df.index.hour\n",
    "df['day_of_week'] = df.index.day_name()\n",
    "df['date'] = df.index.date\n"
   ]
  },
  {
   "cell_type": "code",
   "execution_count": 23,
   "id": "4d730076-df03-44c2-b097-ee0d89993373",
   "metadata": {},
   "outputs": [
    {
     "data": {
      "text/html": [
       "<div>\n",
       "<style scoped>\n",
       "    .dataframe tbody tr th:only-of-type {\n",
       "        vertical-align: middle;\n",
       "    }\n",
       "\n",
       "    .dataframe tbody tr th {\n",
       "        vertical-align: top;\n",
       "    }\n",
       "\n",
       "    .dataframe thead th {\n",
       "        text-align: right;\n",
       "    }\n",
       "</style>\n",
       "<table border=\"1\" class=\"dataframe\">\n",
       "  <thead>\n",
       "    <tr style=\"text-align: right;\">\n",
       "      <th></th>\n",
       "      <th>load</th>\n",
       "      <th>hour</th>\n",
       "      <th>day_of_week</th>\n",
       "    </tr>\n",
       "  </thead>\n",
       "  <tbody>\n",
       "    <tr>\n",
       "      <th>2024-01-01 00:00:00</th>\n",
       "      <td>503.043882</td>\n",
       "      <td>0</td>\n",
       "      <td>Monday</td>\n",
       "    </tr>\n",
       "    <tr>\n",
       "      <th>2024-01-01 01:00:00</th>\n",
       "      <td>491.903132</td>\n",
       "      <td>1</td>\n",
       "      <td>Monday</td>\n",
       "    </tr>\n",
       "    <tr>\n",
       "      <th>2024-01-01 02:00:00</th>\n",
       "      <td>492.662588</td>\n",
       "      <td>2</td>\n",
       "      <td>Monday</td>\n",
       "    </tr>\n",
       "    <tr>\n",
       "      <th>2024-01-01 03:00:00</th>\n",
       "      <td>480.007705</td>\n",
       "      <td>3</td>\n",
       "      <td>Monday</td>\n",
       "    </tr>\n",
       "    <tr>\n",
       "      <th>2024-01-01 04:00:00</th>\n",
       "      <td>496.030118</td>\n",
       "      <td>4</td>\n",
       "      <td>Monday</td>\n",
       "    </tr>\n",
       "  </tbody>\n",
       "</table>\n",
       "</div>"
      ],
      "text/plain": [
       "                           load  hour day_of_week\n",
       "2024-01-01 00:00:00  503.043882     0      Monday\n",
       "2024-01-01 01:00:00  491.903132     1      Monday\n",
       "2024-01-01 02:00:00  492.662588     2      Monday\n",
       "2024-01-01 03:00:00  480.007705     3      Monday\n",
       "2024-01-01 04:00:00  496.030118     4      Monday"
      ]
     },
     "execution_count": 23,
     "metadata": {},
     "output_type": "execute_result"
    }
   ],
   "source": [
    "# show a few rows\n",
    "df[['load','hour','day_of_week']].head()"
   ]
  },
  {
   "cell_type": "code",
   "execution_count": 31,
   "id": "e7d2a410-a1ad-4260-a03b-997686b16782",
   "metadata": {},
   "outputs": [
    {
     "name": "stdout",
     "output_type": "stream",
     "text": [
      "January 3rd has 24 hours of data\n",
      "Peak load: 528.2 MW at hour 20\n"
     ]
    }
   ],
   "source": [
    "jan_3 = df.loc['2024-01-03']\n",
    "print(f\"January 3rd has {len(jan_3)} hours of data\")\n",
    "print(f\"Peak load: {jan_3['load'].max():.1f} MW at hour {jan_3['load'].idxmax().hour}\")"
   ]
  },
  {
   "cell_type": "markdown",
   "id": "d33bac44-8c11-4504-9d1b-2bd652ab1f23",
   "metadata": {},
   "source": [
    "## Basic Time Series Operations"
   ]
  },
  {
   "cell_type": "code",
   "execution_count": null,
   "id": "669c76be-0e0a-49de-8a15-e1f2b68bb8cc",
   "metadata": {},
   "outputs": [],
   "source": [
    "# resample hourly to daily\n",
    "daily = df['load'].resample('D')"
   ]
  }
 ],
 "metadata": {
  "kernelspec": {
   "display_name": "Python 3 (ipykernel)",
   "language": "python",
   "name": "python3"
  },
  "language_info": {
   "codemirror_mode": {
    "name": "ipython",
    "version": 3
   },
   "file_extension": ".py",
   "mimetype": "text/x-python",
   "name": "python",
   "nbconvert_exporter": "python",
   "pygments_lexer": "ipython3",
   "version": "3.13.7"
  }
 },
 "nbformat": 4,
 "nbformat_minor": 5
}
